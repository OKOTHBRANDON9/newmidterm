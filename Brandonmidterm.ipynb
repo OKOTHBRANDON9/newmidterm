{
 "cells": [
  {
   "cell_type": "code",
   "execution_count": 1,
   "id": "5066b0d9",
   "metadata": {},
   "outputs": [],
   "source": [
    "import pandas as pd\n",
    "df=pd.read_csv('fifa_world_cup_2022_tweets.csv')"
   ]
  },
  {
   "cell_type": "code",
   "execution_count": 4,
   "id": "91d6c752",
   "metadata": {},
   "outputs": [],
   "source": [
    "import pandas as pd \n",
    "\n",
    "import re \n",
    "\n",
    "import nltk \n",
    "\n",
    "from nltk.tokenize import word_tokenize \n",
    "\n",
    "from nltk.corpus import stopwords \n",
    "\n",
    "from nltk.stem import PorterStemmer, WordNetLemmatizer \n",
    "\n",
    "from wordcloud import WordCloud "
   ]
  },
  {
   "cell_type": "code",
   "execution_count": 5,
   "id": "7f955f8b",
   "metadata": {},
   "outputs": [],
   "source": [
    "import pandas as pd\n",
    "\n",
    "df = pd.read_csv('fifa_world_cup_2022_tweets.csv')\n",
    "df = pd.concat([df], ignore_index=True)"
   ]
  },
  {
   "cell_type": "code",
   "execution_count": 6,
   "id": "1c4ca146",
   "metadata": {},
   "outputs": [
    {
     "data": {
      "text/html": [
       "<div>\n",
       "<style scoped>\n",
       "    .dataframe tbody tr th:only-of-type {\n",
       "        vertical-align: middle;\n",
       "    }\n",
       "\n",
       "    .dataframe tbody tr th {\n",
       "        vertical-align: top;\n",
       "    }\n",
       "\n",
       "    .dataframe thead th {\n",
       "        text-align: right;\n",
       "    }\n",
       "</style>\n",
       "<table border=\"1\" class=\"dataframe\">\n",
       "  <thead>\n",
       "    <tr style=\"text-align: right;\">\n",
       "      <th></th>\n",
       "      <th>Unnamed: 0</th>\n",
       "      <th>Date Created</th>\n",
       "      <th>Number of Likes</th>\n",
       "      <th>Source of Tweet</th>\n",
       "      <th>Tweet</th>\n",
       "      <th>Sentiment</th>\n",
       "    </tr>\n",
       "  </thead>\n",
       "  <tbody>\n",
       "    <tr>\n",
       "      <th>0</th>\n",
       "      <td>0</td>\n",
       "      <td>2022-11-20 23:59:21+00:00</td>\n",
       "      <td>4</td>\n",
       "      <td>Twitter Web App</td>\n",
       "      <td>What are we drinking today @TucanTribe \\n@MadB...</td>\n",
       "      <td>neutral</td>\n",
       "    </tr>\n",
       "    <tr>\n",
       "      <th>1</th>\n",
       "      <td>1</td>\n",
       "      <td>2022-11-20 23:59:01+00:00</td>\n",
       "      <td>3</td>\n",
       "      <td>Twitter for iPhone</td>\n",
       "      <td>Amazing @CanadaSoccerEN  #WorldCup2022 launch ...</td>\n",
       "      <td>positive</td>\n",
       "    </tr>\n",
       "    <tr>\n",
       "      <th>2</th>\n",
       "      <td>2</td>\n",
       "      <td>2022-11-20 23:58:41+00:00</td>\n",
       "      <td>1</td>\n",
       "      <td>Twitter for iPhone</td>\n",
       "      <td>Worth reading while watching #WorldCup2022 htt...</td>\n",
       "      <td>positive</td>\n",
       "    </tr>\n",
       "    <tr>\n",
       "      <th>3</th>\n",
       "      <td>3</td>\n",
       "      <td>2022-11-20 23:58:33+00:00</td>\n",
       "      <td>1</td>\n",
       "      <td>Twitter Web App</td>\n",
       "      <td>Golden Maknae shinning bright\\n\\nhttps://t.co/...</td>\n",
       "      <td>positive</td>\n",
       "    </tr>\n",
       "    <tr>\n",
       "      <th>4</th>\n",
       "      <td>4</td>\n",
       "      <td>2022-11-20 23:58:28+00:00</td>\n",
       "      <td>0</td>\n",
       "      <td>Twitter for Android</td>\n",
       "      <td>If the BBC cares so much about human rights, h...</td>\n",
       "      <td>negative</td>\n",
       "    </tr>\n",
       "    <tr>\n",
       "      <th>...</th>\n",
       "      <td>...</td>\n",
       "      <td>...</td>\n",
       "      <td>...</td>\n",
       "      <td>...</td>\n",
       "      <td>...</td>\n",
       "      <td>...</td>\n",
       "    </tr>\n",
       "    <tr>\n",
       "      <th>22519</th>\n",
       "      <td>22519</td>\n",
       "      <td>2022-11-20 00:00:21+00:00</td>\n",
       "      <td>1</td>\n",
       "      <td>Twitter Web App</td>\n",
       "      <td>Here We go World cup 2022 #WorldCup2022</td>\n",
       "      <td>positive</td>\n",
       "    </tr>\n",
       "    <tr>\n",
       "      <th>22520</th>\n",
       "      <td>22520</td>\n",
       "      <td>2022-11-20 00:00:03+00:00</td>\n",
       "      <td>0</td>\n",
       "      <td>DenetPro</td>\n",
       "      <td>Anderlecht confirms former Viborg FF's Jesper ...</td>\n",
       "      <td>neutral</td>\n",
       "    </tr>\n",
       "    <tr>\n",
       "      <th>22521</th>\n",
       "      <td>22521</td>\n",
       "      <td>2022-11-20 00:00:01+00:00</td>\n",
       "      <td>2</td>\n",
       "      <td>Twitter for iPhone</td>\n",
       "      <td>Great thread to read before the start of #Worl...</td>\n",
       "      <td>positive</td>\n",
       "    </tr>\n",
       "    <tr>\n",
       "      <th>22522</th>\n",
       "      <td>22522</td>\n",
       "      <td>2022-11-20 00:00:00+00:00</td>\n",
       "      <td>11</td>\n",
       "      <td>Twitter Web App</td>\n",
       "      <td>Raphinha wants Brazil to be united at the #Wor...</td>\n",
       "      <td>positive</td>\n",
       "    </tr>\n",
       "    <tr>\n",
       "      <th>22523</th>\n",
       "      <td>22523</td>\n",
       "      <td>2022-11-20 00:00:00+00:00</td>\n",
       "      <td>24</td>\n",
       "      <td>Twitter Web App</td>\n",
       "      <td>How to buy $SOT on PinkSale?🤔\\n\\nHave you been...</td>\n",
       "      <td>neutral</td>\n",
       "    </tr>\n",
       "  </tbody>\n",
       "</table>\n",
       "<p>22524 rows × 6 columns</p>\n",
       "</div>"
      ],
      "text/plain": [
       "       Unnamed: 0               Date Created  Number of Likes  \\\n",
       "0               0  2022-11-20 23:59:21+00:00                4   \n",
       "1               1  2022-11-20 23:59:01+00:00                3   \n",
       "2               2  2022-11-20 23:58:41+00:00                1   \n",
       "3               3  2022-11-20 23:58:33+00:00                1   \n",
       "4               4  2022-11-20 23:58:28+00:00                0   \n",
       "...           ...                        ...              ...   \n",
       "22519       22519  2022-11-20 00:00:21+00:00                1   \n",
       "22520       22520  2022-11-20 00:00:03+00:00                0   \n",
       "22521       22521  2022-11-20 00:00:01+00:00                2   \n",
       "22522       22522  2022-11-20 00:00:00+00:00               11   \n",
       "22523       22523  2022-11-20 00:00:00+00:00               24   \n",
       "\n",
       "           Source of Tweet                                              Tweet  \\\n",
       "0          Twitter Web App  What are we drinking today @TucanTribe \\n@MadB...   \n",
       "1       Twitter for iPhone  Amazing @CanadaSoccerEN  #WorldCup2022 launch ...   \n",
       "2       Twitter for iPhone  Worth reading while watching #WorldCup2022 htt...   \n",
       "3          Twitter Web App  Golden Maknae shinning bright\\n\\nhttps://t.co/...   \n",
       "4      Twitter for Android  If the BBC cares so much about human rights, h...   \n",
       "...                    ...                                                ...   \n",
       "22519      Twitter Web App            Here We go World cup 2022 #WorldCup2022   \n",
       "22520             DenetPro  Anderlecht confirms former Viborg FF's Jesper ...   \n",
       "22521   Twitter for iPhone  Great thread to read before the start of #Worl...   \n",
       "22522      Twitter Web App  Raphinha wants Brazil to be united at the #Wor...   \n",
       "22523      Twitter Web App  How to buy $SOT on PinkSale?🤔\\n\\nHave you been...   \n",
       "\n",
       "      Sentiment  \n",
       "0       neutral  \n",
       "1      positive  \n",
       "2      positive  \n",
       "3      positive  \n",
       "4      negative  \n",
       "...         ...  \n",
       "22519  positive  \n",
       "22520   neutral  \n",
       "22521  positive  \n",
       "22522  positive  \n",
       "22523   neutral  \n",
       "\n",
       "[22524 rows x 6 columns]"
      ]
     },
     "execution_count": 6,
     "metadata": {},
     "output_type": "execute_result"
    }
   ],
   "source": [
    "import pandas as pd\n",
    "df=pd.read_csv('fifa_world_cup_2022_tweets.csv')\n",
    "df"
   ]
  },
  {
   "cell_type": "code",
   "execution_count": 9,
   "id": "748ccac2",
   "metadata": {},
   "outputs": [],
   "source": [
    "import pandas as pd\n",
    "import re\n",
    "\n",
    "df = pd.read_csv('fifa_world_cup_2022_tweets.csv')\n",
    "\n",
    "\n",
    "url_pattern = r'http\\S+|www.\\S+'\n",
    "\n",
    "df['Tweet'] = df['Tweet'].apply(lambda x: re.sub(url_pattern, '', x))"
   ]
  },
  {
   "cell_type": "code",
   "execution_count": 14,
   "id": "1e879944",
   "metadata": {},
   "outputs": [],
   "source": [
    "import pandas as pd\n",
    "\n",
    "df = pd.read_csv('fifa_world_cup_2022_tweets.csv')\n",
    "\n",
    "df['Tweet'] = df['Tweet'].replace('[^a-zA-Z0-9\\s]+', '', regex=True)\n"
   ]
  },
  {
   "cell_type": "code",
   "execution_count": 15,
   "id": "79442f7e",
   "metadata": {},
   "outputs": [],
   "source": [
    "import pandas as pd\n",
    "\n",
    "df = pd.read_csv('fifa_world_cup_2022_tweets.csv')\n",
    "\n",
    "df['Tweet'] = df['Tweet'].str.lower()\n"
   ]
  },
  {
   "cell_type": "code",
   "execution_count": 16,
   "id": "7533c0b7",
   "metadata": {},
   "outputs": [],
   "source": [
    "from nltk.corpus import stopwords\n",
    "stop_words = set(stopwords.words('english'))\n",
    "\n",
    "text = \"What are we drinking today @TucanTribe\"\n",
    "\n",
    "tokens = nltk.word_tokenize(text)\n",
    "\n",
    "filtered_tokens = [token for token in tokens if token.lower() not in stop_words]\n"
   ]
  },
  {
   "cell_type": "code",
   "execution_count": 17,
   "id": "f0480ad9",
   "metadata": {},
   "outputs": [],
   "source": [
    "from nltk.tokenize import word_tokenize\n",
    "\n",
    "def tokenize_text(Tweet):\n",
    "    if isinstance(Tweet, str):\n",
    "        return word_tokenize(Tweet)\n",
    "    else:\n",
    "        return \"\"\n"
   ]
  },
  {
   "cell_type": "code",
   "execution_count": 18,
   "id": "5be4e024",
   "metadata": {},
   "outputs": [],
   "source": [
    "from nltk.corpus import stopwords\n",
    "stopwords_list = stopwords.words('english')\n",
    "\n",
    "def remove_stopwords(tokens): \n",
    "    stop_words = set(stopwords.words('english')) \n",
    "    return [word for word in tokens if not word in stop_words] \n",
    "\n",
    "df['Tweet'] = df['Tweet'].astype(str).apply(remove_stopwords)\n",
    "\n"
   ]
  },
  {
   "cell_type": "code",
   "execution_count": 19,
   "id": "38719811",
   "metadata": {},
   "outputs": [
    {
     "name": "stdout",
     "output_type": "stream",
     "text": [
      "['well', 'that', 'wa', 'fun', '.', 'when', 'you', 'never', 'qualifi', 'on', 'your', 'own', 'and', 'fifa', 'just', 'gift', 'it', 'to', 'you', 'for', 'your', 'oil', 'money', 'you', 'get', 'a', 'tast', 'of', 'realiti', 'real', 'quick', '.', '#', 'worldcup', '#', 'worldcup2022', '#', 'qatarvsecuador']\n"
     ]
    }
   ],
   "source": [
    "import nltk\n",
    "from nltk.stem import PorterStemmer\n",
    "\n",
    "stemmer = PorterStemmer()\n",
    "\n",
    "text = \"Well that was fun. When you never qualify on your own and FIFA just gifts it to you for your oil money you get a taste of reality real quick. #WorldCup #WorldCup2022 #QatarvsEcuador\"\n",
    "tokens = nltk.word_tokenize(text)\n",
    "\n",
    "stemmed_words = [stemmer.stem(token) for token in tokens]\n",
    "print(stemmed_words)\n"
   ]
  },
  {
   "cell_type": "code",
   "execution_count": 20,
   "id": "1f6ca497",
   "metadata": {},
   "outputs": [
    {
     "name": "stdout",
     "output_type": "stream",
     "text": [
      "['Well', 'that', 'wa', 'fun', '.', 'When', 'you', 'never', 'qualify', 'on', 'your', 'own', 'and', 'FIFA', 'just', 'gift', 'it', 'to', 'you', 'for', 'your', 'oil', 'money', 'you', 'get', 'a', 'taste', 'of', 'reality', 'real', 'quick', '.', '#', 'WorldCup', '#', 'WorldCup2022', '#', 'QatarvsEcuador']\n"
     ]
    }
   ],
   "source": [
    "import nltk\n",
    "from nltk.stem import WordNetLemmatizer\n",
    "\n",
    "\n",
    "lemmatizer = WordNetLemmatizer()\n",
    "\n",
    "\n",
    "text = \"Well that was fun. When you never qualify on your own and FIFA just gifts it to you for your oil money you get a taste of reality real quick. #WorldCup #WorldCup2022 #QatarvsEcuador\"\n",
    "\n",
    "\n",
    "tokens = nltk.word_tokenize(text)\n",
    "\n",
    "\n",
    "lemmatized_words = [lemmatizer.lemmatize(token) for token in tokens]\n",
    "\n",
    "\n",
    "print(lemmatized_words)"
   ]
  },
  {
   "cell_type": "code",
   "execution_count": 21,
   "id": "11dcf037",
   "metadata": {},
   "outputs": [
    {
     "data": {
      "image/png": "[encoded data removed]",
      "text/plain": [
       "<Figure size 640x480 with 1 Axes>"
      ]
     },
     "metadata": {},
     "output_type": "display_data"
    }
   ],
   "source": [
    "import nltk\n",
    "from nltk.corpus import stopwords\n",
    "from wordcloud import WordCloud\n",
    "import matplotlib.pyplot as plt\n",
    "\n",
    "text = \"Well that was fun. When you never qualify on your own and FIFA just gifts it to you for your oil money you get a taste of reality real quick. #WorldCup #WorldCup2022 #QatarvsEcuador\"\n",
    "\n",
    "\n",
    "tokens = nltk.word_tokenize(text)\n",
    "\n",
    "stop_words = set(stopwords.words('english'))\n",
    "filtered_tokens = [token for token in tokens if token.lower() not in stop_words]\n",
    "\n",
    "\n",
    "freq_dist = nltk.FreqDist(filtered_tokens)\n",
    "\n",
    "\n",
    "wordcloud = WordCloud(background_color='aqua').generate_from_frequencies(freq_dist)\n",
    "\n",
    "\n",
    "plt.imshow(wordcloud, interpolation='bilinear')\n",
    "plt.axis(\"off\")\n",
    "plt.show()"
   ]
  },
  {
   "cell_type": "code",
   "execution_count": 22,
   "id": "0119313e",
   "metadata": {},
   "outputs": [],
   "source": [
    "import pandas as pd\n",
    "import nltk\n",
    "from nltk.corpus import stopwords\n",
    "\n",
    "\n",
    "df = pd.read_csv('fifa_world_cup_2022_tweets.csv')\n",
    "\n",
    "df_clean = df.dropna()\n",
    "\n",
    "df_clean.to_csv('cleaned_data.csv', index=False)\n"
   ]
  },
  {
   "cell_type": "code",
   "execution_count": null,
   "id": "9aebeef9",
   "metadata": {},
   "outputs": [],
   "source": []
  },
  {
   "cell_type": "code",
   "execution_count": null,
   "id": "14975b31",
   "metadata": {},
   "outputs": [],
   "source": []
  }
 ],
 "metadata": {
  "kernelspec": {
   "display_name": "Python 3 (ipykernel)",
   "language": "python",
   "name": "python3"
  },
  "language_info": {
   "codemirror_mode": {
    "name": "ipython",
    "version": 3
   },
   "file_extension": ".py",
   "mimetype": "text/x-python",
   "name": "python",
   "nbconvert_exporter": "python",
   "pygments_lexer": "ipython3",
   "version": "3.9.13"
  }
 },
 "nbformat": 4,
 "nbformat_minor": 5
}
